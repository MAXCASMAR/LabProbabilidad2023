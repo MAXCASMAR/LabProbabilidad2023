{
  "nbformat": 4,
  "nbformat_minor": 0,
  "metadata": {
    "colab": {
      "provenance": [],
      "authorship_tag": "ABX9TyNhUzh9T0iQ5I5STQ1i36yF",
      "include_colab_link": true
    },
    "kernelspec": {
      "name": "ir",
      "display_name": "R"
    },
    "language_info": {
      "name": "R"
    }
  },
  "cells": [
    {
      "cell_type": "markdown",
      "metadata": {
        "id": "view-in-github",
        "colab_type": "text"
      },
      "source": [
        "<a href=\"https://colab.research.google.com/github/MAXCASMAR/LabProbabilidad2023/blob/main/Tarea1.ipynb\" target=\"_parent\"><img src=\"https://colab.research.google.com/assets/colab-badge.svg\" alt=\"Open In Colab\"/></a>"
      ]
    },
    {
      "cell_type": "markdown",
      "source": [
        "Escribe una función que simule el lanzamiento de dos dados y devuelva la suma de los resultados. Ejecuta esta función 500 veces y haz un histograma de los resultados. ¿Cómo se relaciona esto con la incertidumbre y los fenómenos aleatorios?\n"
      ],
      "metadata": {
        "id": "BRUwTO0gRPDc"
      }
    },
    {
      "cell_type": "code",
      "execution_count": 11,
      "metadata": {
        "colab": {
          "base_uri": "https://localhost:8080/",
          "height": 784
        },
        "id": "0saRLtBlQQST",
        "outputId": "d3d2ca1c-ed99-46df-ff18-eba2f2defc78"
      },
      "outputs": [
        {
          "output_type": "display_data",
          "data": {
            "text/plain": [
              "$breaks\n",
              " [1]  2  3  4  5  6  7  8  9 10 11 12\n",
              "\n",
              "$counts\n",
              " [1] 40 42 58 66 85 83 49 31 32 14\n",
              "\n",
              "$density\n",
              " [1] 0.080 0.084 0.116 0.132 0.170 0.166 0.098 0.062 0.064 0.028\n",
              "\n",
              "$mids\n",
              " [1]  2.5  3.5  4.5  5.5  6.5  7.5  8.5  9.5 10.5 11.5\n",
              "\n",
              "$xname\n",
              "[1] \"c(tiradas)\"\n",
              "\n",
              "$equidist\n",
              "[1] TRUE\n",
              "\n",
              "attr(,\"class\")\n",
              "[1] \"histogram\""
            ]
          },
          "metadata": {}
        },
        {
          "output_type": "display_data",
          "data": {
            "text/plain": [
              "Plot with title “Histogram of c(tiradas)”"
            ],
            "image/png": "[encoded data removed]"
          },
          "metadata": {
            "image/png": {
              "width": 420,
              "height": 420
            }
          }
        }
      ],
      "source": [
        "\n",
        "tiradas= replicate(500,sum(sample(1:6,2,replace= TRUE)))\n",
        "histograma=hist(x=c(tiradas))\n",
        "histograma"
      ]
    },
    {
      "cell_type": "markdown",
      "source": [
        "Crea un espacio muestral de todos los posibles resultados cuando se lanza un dado y se gira una ruleta al mismo tiempo. Asume que la ruleta tiene 10 posiciones numeradas del 0 al 9."
      ],
      "metadata": {
        "id": "DzYDEK16REju"
      }
    },
    {
      "cell_type": "code",
      "source": [
        "espacio_muestral=expand.grid(1:6,0:9)\n",
        "espacio_muestral"
      ],
      "metadata": {
        "colab": {
          "base_uri": "https://localhost:8080/",
          "height": 1000
        },
        "id": "zPQsos5eRe9D",
        "outputId": "a7425224-9882-4f6d-862a-3b0fc45deb3c"
      },
      "execution_count": 4,
      "outputs": [
        {
          "output_type": "display_data",
          "data": {
            "text/html": [
              "<table class=\"dataframe\">\n",
              "<caption>A data.frame: 60 × 2</caption>\n",
              "<thead>\n",
              "\t<tr><th scope=col>Var1</th><th scope=col>Var2</th></tr>\n",
              "\t<tr><th scope=col>&lt;int&gt;</th><th scope=col>&lt;int&gt;</th></tr>\n",
              "</thead>\n",
              "<tbody>\n",
              "\t<tr><td>1</td><td>0</td></tr>\n",
              "\t<tr><td>2</td><td>0</td></tr>\n",
              "\t<tr><td>3</td><td>0</td></tr>\n",
              "\t<tr><td>4</td><td>0</td></tr>\n",
              "\t<tr><td>5</td><td>0</td></tr>\n",
              "\t<tr><td>6</td><td>0</td></tr>\n",
              "\t<tr><td>1</td><td>1</td></tr>\n",
              "\t<tr><td>2</td><td>1</td></tr>\n",
              "\t<tr><td>3</td><td>1</td></tr>\n",
              "\t<tr><td>4</td><td>1</td></tr>\n",
              "\t<tr><td>5</td><td>1</td></tr>\n",
              "\t<tr><td>6</td><td>1</td></tr>\n",
              "\t<tr><td>1</td><td>2</td></tr>\n",
              "\t<tr><td>2</td><td>2</td></tr>\n",
              "\t<tr><td>3</td><td>2</td></tr>\n",
              "\t<tr><td>4</td><td>2</td></tr>\n",
              "\t<tr><td>5</td><td>2</td></tr>\n",
              "\t<tr><td>6</td><td>2</td></tr>\n",
              "\t<tr><td>1</td><td>3</td></tr>\n",
              "\t<tr><td>2</td><td>3</td></tr>\n",
              "\t<tr><td>3</td><td>3</td></tr>\n",
              "\t<tr><td>4</td><td>3</td></tr>\n",
              "\t<tr><td>5</td><td>3</td></tr>\n",
              "\t<tr><td>6</td><td>3</td></tr>\n",
              "\t<tr><td>1</td><td>4</td></tr>\n",
              "\t<tr><td>2</td><td>4</td></tr>\n",
              "\t<tr><td>3</td><td>4</td></tr>\n",
              "\t<tr><td>4</td><td>4</td></tr>\n",
              "\t<tr><td>5</td><td>4</td></tr>\n",
              "\t<tr><td>6</td><td>4</td></tr>\n",
              "\t<tr><td>1</td><td>5</td></tr>\n",
              "\t<tr><td>2</td><td>5</td></tr>\n",
              "\t<tr><td>3</td><td>5</td></tr>\n",
              "\t<tr><td>4</td><td>5</td></tr>\n",
              "\t<tr><td>5</td><td>5</td></tr>\n",
              "\t<tr><td>6</td><td>5</td></tr>\n",
              "\t<tr><td>1</td><td>6</td></tr>\n",
              "\t<tr><td>2</td><td>6</td></tr>\n",
              "\t<tr><td>3</td><td>6</td></tr>\n",
              "\t<tr><td>4</td><td>6</td></tr>\n",
              "\t<tr><td>5</td><td>6</td></tr>\n",
              "\t<tr><td>6</td><td>6</td></tr>\n",
              "\t<tr><td>1</td><td>7</td></tr>\n",
              "\t<tr><td>2</td><td>7</td></tr>\n",
              "\t<tr><td>3</td><td>7</td></tr>\n",
              "\t<tr><td>4</td><td>7</td></tr>\n",
              "\t<tr><td>5</td><td>7</td></tr>\n",
              "\t<tr><td>6</td><td>7</td></tr>\n",
              "\t<tr><td>1</td><td>8</td></tr>\n",
              "\t<tr><td>2</td><td>8</td></tr>\n",
              "\t<tr><td>3</td><td>8</td></tr>\n",
              "\t<tr><td>4</td><td>8</td></tr>\n",
              "\t<tr><td>5</td><td>8</td></tr>\n",
              "\t<tr><td>6</td><td>8</td></tr>\n",
              "\t<tr><td>1</td><td>9</td></tr>\n",
              "\t<tr><td>2</td><td>9</td></tr>\n",
              "\t<tr><td>3</td><td>9</td></tr>\n",
              "\t<tr><td>4</td><td>9</td></tr>\n",
              "\t<tr><td>5</td><td>9</td></tr>\n",
              "\t<tr><td>6</td><td>9</td></tr>\n",
              "</tbody>\n",
              "</table>\n"
            ],
            "text/markdown": "\nA data.frame: 60 × 2\n\n| Var1 &lt;int&gt; | Var2 &lt;int&gt; |\n|---|---|\n| 1 | 0 |\n| 2 | 0 |\n| 3 | 0 |\n| 4 | 0 |\n| 5 | 0 |\n| 6 | 0 |\n| 1 | 1 |\n| 2 | 1 |\n| 3 | 1 |\n| 4 | 1 |\n| 5 | 1 |\n| 6 | 1 |\n| 1 | 2 |\n| 2 | 2 |\n| 3 | 2 |\n| 4 | 2 |\n| 5 | 2 |\n| 6 | 2 |\n| 1 | 3 |\n| 2 | 3 |\n| 3 | 3 |\n| 4 | 3 |\n| 5 | 3 |\n| 6 | 3 |\n| 1 | 4 |\n| 2 | 4 |\n| 3 | 4 |\n| 4 | 4 |\n| 5 | 4 |\n| 6 | 4 |\n| 1 | 5 |\n| 2 | 5 |\n| 3 | 5 |\n| 4 | 5 |\n| 5 | 5 |\n| 6 | 5 |\n| 1 | 6 |\n| 2 | 6 |\n| 3 | 6 |\n| 4 | 6 |\n| 5 | 6 |\n| 6 | 6 |\n| 1 | 7 |\n| 2 | 7 |\n| 3 | 7 |\n| 4 | 7 |\n| 5 | 7 |\n| 6 | 7 |\n| 1 | 8 |\n| 2 | 8 |\n| 3 | 8 |\n| 4 | 8 |\n| 5 | 8 |\n| 6 | 8 |\n| 1 | 9 |\n| 2 | 9 |\n| 3 | 9 |\n| 4 | 9 |\n| 5 | 9 |\n| 6 | 9 |\n\n",
            "text/latex": "A data.frame: 60 × 2\n\\begin{tabular}{ll}\n Var1 & Var2\\\\\n <int> & <int>\\\\\n\\hline\n\t 1 & 0\\\\\n\t 2 & 0\\\\\n\t 3 & 0\\\\\n\t 4 & 0\\\\\n\t 5 & 0\\\\\n\t 6 & 0\\\\\n\t 1 & 1\\\\\n\t 2 & 1\\\\\n\t 3 & 1\\\\\n\t 4 & 1\\\\\n\t 5 & 1\\\\\n\t 6 & 1\\\\\n\t 1 & 2\\\\\n\t 2 & 2\\\\\n\t 3 & 2\\\\\n\t 4 & 2\\\\\n\t 5 & 2\\\\\n\t 6 & 2\\\\\n\t 1 & 3\\\\\n\t 2 & 3\\\\\n\t 3 & 3\\\\\n\t 4 & 3\\\\\n\t 5 & 3\\\\\n\t 6 & 3\\\\\n\t 1 & 4\\\\\n\t 2 & 4\\\\\n\t 3 & 4\\\\\n\t 4 & 4\\\\\n\t 5 & 4\\\\\n\t 6 & 4\\\\\n\t 1 & 5\\\\\n\t 2 & 5\\\\\n\t 3 & 5\\\\\n\t 4 & 5\\\\\n\t 5 & 5\\\\\n\t 6 & 5\\\\\n\t 1 & 6\\\\\n\t 2 & 6\\\\\n\t 3 & 6\\\\\n\t 4 & 6\\\\\n\t 5 & 6\\\\\n\t 6 & 6\\\\\n\t 1 & 7\\\\\n\t 2 & 7\\\\\n\t 3 & 7\\\\\n\t 4 & 7\\\\\n\t 5 & 7\\\\\n\t 6 & 7\\\\\n\t 1 & 8\\\\\n\t 2 & 8\\\\\n\t 3 & 8\\\\\n\t 4 & 8\\\\\n\t 5 & 8\\\\\n\t 6 & 8\\\\\n\t 1 & 9\\\\\n\t 2 & 9\\\\\n\t 3 & 9\\\\\n\t 4 & 9\\\\\n\t 5 & 9\\\\\n\t 6 & 9\\\\\n\\end{tabular}\n",
            "text/plain": [
              "   Var1 Var2\n",
              "1  1    0   \n",
              "2  2    0   \n",
              "3  3    0   \n",
              "4  4    0   \n",
              "5  5    0   \n",
              "6  6    0   \n",
              "7  1    1   \n",
              "8  2    1   \n",
              "9  3    1   \n",
              "10 4    1   \n",
              "11 5    1   \n",
              "12 6    1   \n",
              "13 1    2   \n",
              "14 2    2   \n",
              "15 3    2   \n",
              "16 4    2   \n",
              "17 5    2   \n",
              "18 6    2   \n",
              "19 1    3   \n",
              "20 2    3   \n",
              "21 3    3   \n",
              "22 4    3   \n",
              "23 5    3   \n",
              "24 6    3   \n",
              "25 1    4   \n",
              "26 2    4   \n",
              "27 3    4   \n",
              "28 4    4   \n",
              "29 5    4   \n",
              "30 6    4   \n",
              "31 1    5   \n",
              "32 2    5   \n",
              "33 3    5   \n",
              "34 4    5   \n",
              "35 5    5   \n",
              "36 6    5   \n",
              "37 1    6   \n",
              "38 2    6   \n",
              "39 3    6   \n",
              "40 4    6   \n",
              "41 5    6   \n",
              "42 6    6   \n",
              "43 1    7   \n",
              "44 2    7   \n",
              "45 3    7   \n",
              "46 4    7   \n",
              "47 5    7   \n",
              "48 6    7   \n",
              "49 1    8   \n",
              "50 2    8   \n",
              "51 3    8   \n",
              "52 4    8   \n",
              "53 5    8   \n",
              "54 6    8   \n",
              "55 1    9   \n",
              "56 2    9   \n",
              "57 3    9   \n",
              "58 4    9   \n",
              "59 5    9   \n",
              "60 6    9   "
            ]
          },
          "metadata": {}
        }
      ]
    },
    {
      "cell_type": "markdown",
      "source": [
        "Demuestra con un ejemplo el primer axioma de probabilidad (la probabilidad de un evento es un número no negativo) lanzando una moneda 1000 veces y calculando la probabilidad de \"cara\"."
      ],
      "metadata": {
        "id": "Mu2Y3Q_cRtn3"
      }
    },
    {
      "cell_type": "code",
      "source": [
        "\n",
        "tiradas=replicate(1000,sample(c(\"cara\",\"cruz\"),1,replace=TRUE))\n",
        "prop_cara=mean(tiradas==\"cara\")\n",
        "prop_cara"
      ],
      "metadata": {
        "colab": {
          "base_uri": "https://localhost:8080/",
          "height": 34
        },
        "id": "WwNS7EVAR4vs",
        "outputId": "def3faf7-92b5-42b5-e028-9feb9e917e6a"
      },
      "execution_count": 10,
      "outputs": [
        {
          "output_type": "display_data",
          "data": {
            "text/html": [
              "0.508"
            ],
            "text/markdown": "0.508",
            "text/latex": "0.508",
            "text/plain": [
              "[1] 0.508"
            ]
          },
          "metadata": {}
        }
      ]
    }
  ]
}