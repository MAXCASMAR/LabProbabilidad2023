{
  "nbformat": 4,
  "nbformat_minor": 0,
  "metadata": {
    "colab": {
      "provenance": [],
      "authorship_tag": "ABX9TyPoejw++dqEDHMHsrSMKFn0",
      "include_colab_link": true
    },
    "kernelspec": {
      "name": "ir",
      "display_name": "R"
    },
    "language_info": {
      "name": "R"
    }
  },
  "cells": [
    {
      "cell_type": "markdown",
      "metadata": {
        "id": "view-in-github",
        "colab_type": "text"
      },
      "source": [
        "<a href=\"https://colab.research.google.com/github/MAXCASMAR/LabProbabilidad2023/blob/main/Tarea_Lab_1.ipynb\" target=\"_parent\"><img src=\"https://colab.research.google.com/assets/colab-badge.svg\" alt=\"Open In Colab\"/></a>"
      ]
    },
    {
      "cell_type": "code",
      "execution_count": null,
      "metadata": {
        "id": "lGRYxMEziTkr"
      },
      "outputs": [],
      "source": []
    },
    {
      "cell_type": "markdown",
      "source": [
        "2. Simula el lanzamiento de un dado de seis caras 100 veces. ¿Cuántas veces se obtiene cada número? ¿Cómo se relaciona esto con la incertidumbre y los fenómenos aleatorios?"
      ],
      "metadata": {
        "id": "sKhEAfSliUve"
      }
    },
    {
      "cell_type": "code",
      "source": [
        "tiradas <- 100\n",
        "\n",
        "dado1 <- sample(1:6, tiradas, T)\n",
        "\n",
        "dado2 <- sample(1:6, tiradas, T)\n",
        "\n",
        "sum( dado1, dado2)\n",
        "\n",
        "\n",
        "\n",
        "\n"
      ],
      "metadata": {
        "colab": {
          "base_uri": "https://localhost:8080/",
          "height": 34
        },
        "id": "mpDhYTnRiVk0",
        "outputId": "6d6c232a-0b67-4c2d-8126-917c54e56b13"
      },
      "execution_count": 17,
      "outputs": [
        {
          "output_type": "display_data",
          "data": {
            "text/html": [
              "700"
            ],
            "text/markdown": "700",
            "text/latex": "700",
            "text/plain": [
              "[1] 700"
            ]
          },
          "metadata": {}
        }
      ]
    },
    {
      "cell_type": "markdown",
      "source": [
        "9. Genera un espacio muestral para el lanzamiento de dos dados y muestra todos los resultados posibles."
      ],
      "metadata": {
        "id": "gtsk9XAjihqn"
      }
    },
    {
      "cell_type": "code",
      "source": [
        "N <- 36\n",
        "\n",
        "dado1 <- sample(1:6,N,T)\n",
        "\n",
        "dado2 <- sample(1:6,N,T)\n",
        "\n",
        "espacio <- dado1 + dado2\n",
        "\n",
        "espacio\n",
        "\n",
        "\n",
        "\n",
        "\n",
        "\n",
        "\n"
      ],
      "metadata": {
        "colab": {
          "base_uri": "https://localhost:8080/",
          "height": 34
        },
        "id": "ewEny2a0ijRv",
        "outputId": "1e2d616d-b7fe-429f-8c8a-a59611d3d282"
      },
      "execution_count": 12,
      "outputs": [
        {
          "output_type": "display_data",
          "data": {
            "text/html": [
              "<style>\n",
              ".list-inline {list-style: none; margin:0; padding: 0}\n",
              ".list-inline>li {display: inline-block}\n",
              ".list-inline>li:not(:last-child)::after {content: \"\\00b7\"; padding: 0 .5ex}\n",
              "</style>\n",
              "<ol class=list-inline><li>8</li><li>6</li><li>12</li><li>6</li><li>7</li><li>8</li><li>11</li><li>6</li><li>7</li><li>3</li><li>10</li><li>9</li><li>7</li><li>8</li><li>6</li><li>4</li><li>3</li><li>8</li><li>6</li><li>8</li><li>3</li><li>6</li><li>9</li><li>3</li><li>9</li><li>7</li><li>10</li><li>3</li><li>8</li><li>11</li><li>6</li><li>8</li><li>9</li><li>6</li><li>8</li><li>7</li></ol>\n"
            ],
            "text/markdown": "1. 8\n2. 6\n3. 12\n4. 6\n5. 7\n6. 8\n7. 11\n8. 6\n9. 7\n10. 3\n11. 10\n12. 9\n13. 7\n14. 8\n15. 6\n16. 4\n17. 3\n18. 8\n19. 6\n20. 8\n21. 3\n22. 6\n23. 9\n24. 3\n25. 9\n26. 7\n27. 10\n28. 3\n29. 8\n30. 11\n31. 6\n32. 8\n33. 9\n34. 6\n35. 8\n36. 7\n\n\n",
            "text/latex": "\\begin{enumerate*}\n\\item 8\n\\item 6\n\\item 12\n\\item 6\n\\item 7\n\\item 8\n\\item 11\n\\item 6\n\\item 7\n\\item 3\n\\item 10\n\\item 9\n\\item 7\n\\item 8\n\\item 6\n\\item 4\n\\item 3\n\\item 8\n\\item 6\n\\item 8\n\\item 3\n\\item 6\n\\item 9\n\\item 3\n\\item 9\n\\item 7\n\\item 10\n\\item 3\n\\item 8\n\\item 11\n\\item 6\n\\item 8\n\\item 9\n\\item 6\n\\item 8\n\\item 7\n\\end{enumerate*}\n",
            "text/plain": [
              " [1]  8  6 12  6  7  8 11  6  7  3 10  9  7  8  6  4  3  8  6  8  3  6  9  3  9\n",
              "[26]  7 10  3  8 11  6  8  9  6  8  7"
            ]
          },
          "metadata": {}
        }
      ]
    },
    {
      "cell_type": "code",
      "source": [],
      "metadata": {
        "id": "Hdc0Z7ECikXp"
      },
      "execution_count": null,
      "outputs": []
    },
    {
      "cell_type": "markdown",
      "source": [
        "16. Genera un espacio muestral para el lanzamiento de tres dados. Luego, calcula la probabilidad de que la suma de los resultados sea mayor que 10."
      ],
      "metadata": {
        "id": "yODYTddiik4R"
      }
    },
    {
      "cell_type": "code",
      "source": [
        "esp <- 216\n",
        "\n",
        "dado1 <- sample(1:6, esp, T)\n",
        "\n",
        "dado2 <- sample(1:6, esp, T)\n",
        "\n",
        "dado3 <- sample(1:6, esp, T)\n",
        "\n",
        "suma <- dado1 + dado2 + dado3\n",
        "\n",
        "mean( suma >= 10)\n",
        "\n",
        "\n"
      ],
      "metadata": {
        "colab": {
          "base_uri": "https://localhost:8080/",
          "height": 34
        },
        "id": "qWQAxULnisoO",
        "outputId": "277ca8da-d6df-4880-d277-cac89ac2efe7"
      },
      "execution_count": 19,
      "outputs": [
        {
          "output_type": "display_data",
          "data": {
            "text/html": [
              "0.625"
            ],
            "text/markdown": "0.625",
            "text/latex": "0.625",
            "text/plain": [
              "[1] 0.625"
            ]
          },
          "metadata": {}
        }
      ]
    },
    {
      "cell_type": "markdown",
      "source": [],
      "metadata": {
        "id": "GVLPiO8jk8RJ"
      }
    }
  ]
}