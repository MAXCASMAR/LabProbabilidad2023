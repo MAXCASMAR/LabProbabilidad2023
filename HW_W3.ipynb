{
  "nbformat": 4,
  "nbformat_minor": 0,
  "metadata": {
    "colab": {
      "provenance": []
    },
    "kernelspec": {
      "name": "python3",
      "display_name": "Python 3"
    },
    "language_info": {
      "name": "python"
    }
  },
  "cells": [
    {
      "cell_type": "markdown",
      "source": [
        "# Frisbee: alecalderooon\n",
        "\n",
        "Ultimate frisbee players are so poor they don’t own coins. So, team captains decide which team will play offense first by flipping frisbees before the start of the game. Rather than flip one frisbee and call a side, each team captain flips a frisbee and one captain calls whether the two frisbees will land on the same side, or on different sides. Presumably, they do this instead of just flipping one frisbee because a frisbee is not obviously a fair coin - the probability of one side seems likely to be different from the probability of the other side.\n",
        "1. Suppose you flip two fair coins. What is the probability they show different sides?\n",
        "2. Suppose two captains flip frisbees. Assume the probability that a frisbee lands convex side up is p. Compute the probability (in terms of p) that the two frisbees match.\n",
        "3. Make a graph of the probability of a match in terms of p.\n",
        "4. One reddit user flipped a frisbee 800 times and found that in practice, the convex side lands up 45% of the time. When captains flip, what is the probability of “same”? What is the probability of “different”?\n",
        "5. What advice would you give to an ultimate frisbee team captain?\n",
        "6. Is the two frisbee flip better than a single frisbee flip for deciding the offense?"
      ],
      "metadata": {
        "id": "_0P_0CijvaLu"
      }
    },
    {
      "cell_type": "code",
      "source": [
        "1/2*1/2+1/2*1/2=1/4+1/4=1/2"
      ],
      "metadata": {
        "id": "3oQ3no-5gz1o",
        "outputId": "440bb5de-15e5-4365-88af-ddd9339c6e08",
        "colab": {
          "base_uri": "https://localhost:8080/",
          "height": 143
        }
      },
      "execution_count": 22,
      "outputs": [
        {
          "output_type": "error",
          "ename": "SyntaxError",
          "evalue": "ignored",
          "traceback": [
            "\u001b[0;36m  File \u001b[0;32m\"<ipython-input-22-3d33ff1a8f80>\"\u001b[0;36m, line \u001b[0;32m1\u001b[0m\n\u001b[0;31m    1. 1/2\u001b[0m\n\u001b[0m       ^\u001b[0m\n\u001b[0;31mSyntaxError\u001b[0m\u001b[0;31m:\u001b[0m invalid syntax\n"
          ]
        }
      ]
    },
    {
      "cell_type": "code",
      "source": [
        "2. p^2 + (1-p)^2"
      ],
      "metadata": {
        "id": "jz5n52W3vbBJ"
      },
      "execution_count": null,
      "outputs": []
    },
    {
      "cell_type": "code",
      "source": [
        "func = function(p) (p^2+(1-p)^2)\n",
        "plot(func, from  = 0, to = 1)"
      ],
      "metadata": {
        "id": "9-CKx68Tfgkq",
        "outputId": "1a21f159-1fe8-43f6-f316-7bf2dfe0e8a5",
        "colab": {
          "base_uri": "https://localhost:8080/",
          "height": 143
        }
      },
      "execution_count": 14,
      "outputs": [
        {
          "output_type": "error",
          "ename": "SyntaxError",
          "evalue": "ignored",
          "traceback": [
            "\u001b[0;36m  File \u001b[0;32m\"<ipython-input-14-1c32c1cd9884>\"\u001b[0;36m, line \u001b[0;32m2\u001b[0m\n\u001b[0;31m    plot(func, from  = 0, to = 1)\u001b[0m\n\u001b[0m               ^\u001b[0m\n\u001b[0;31mSyntaxError\u001b[0m\u001b[0;31m:\u001b[0m invalid syntax\n"
          ]
        }
      ]
    },
    {
      "cell_type": "code",
      "source": [
        "4. Same = 0.505 Different = 0.495"
      ],
      "metadata": {
        "id": "QjQpLDR2g2vl"
      },
      "execution_count": null,
      "outputs": []
    },
    {
      "cell_type": "code",
      "source": [
        "5. escoger igual"
      ],
      "metadata": {
        "id": "LKYS8-XZg5xx"
      },
      "execution_count": null,
      "outputs": []
    },
    {
      "cell_type": "code",
      "source": [
        "6. Si, 0.505 a 0.495 es mejor que 0.495 a 0.505"
      ],
      "metadata": {
        "id": "8_qGAHL6g8QD"
      },
      "execution_count": null,
      "outputs": []
    }
  ]
}