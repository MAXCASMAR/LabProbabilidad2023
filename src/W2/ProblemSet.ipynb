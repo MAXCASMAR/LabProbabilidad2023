{
 "cells": [
  {
   "cell_type": "markdown",
   "metadata": {},
   "source": [
    "# Exercises Week 2\n",
    "* Dados dos eventos A y B con $P(A) = 0.6, P(B) = 0.4, P(A \\cap B) = 0.3$, calcula $P(A|B)$ y $P(B|A)$ usando las fórmulas de la probabilidad condicional.\n",
    "* Supón que se elige un número al azar del conjunto {1, 2, 3, ..., 100}. Define el evento A como \"el número elegido es divisible por 5\" y el evento B como \"el número elegido es par\". Calcula $P(A), P(B), P(A \\cap B), P(A|B),P(B|A)$.\n",
    "* Supón que se lanza un dado justo dos veces. Define el evento A como \"la suma de los lanzamientos es 7\" y el evento B como \"el primer lanzamiento es 4\". Calcula $P(A), P(B), P(A \\cap B), P(A|B), P(B|A)$ usando simulación.\n",
    "* Una urna contiene 4 bolas rojas, 3 bolas azules y 2 bolas verdes. Si se selecciona una bola al azar, define el evento A como \"la bola es roja\" y el evento B como \"la bola no es verde\". Calcula $P(A), P(B), P(A \\cap B), P(A|B), P(B|A)$.\n",
    "* Supón que tienes una bolsa con 5 manzanas rojas, 3 manzanas verdes y 2 naranjas. Si eliges una fruta al azar, define el evento A como \"la fruta es una manzana\" y el evento B como \"la fruta es roja\". Calcula $P(A), P(B), P(A \\cap B), P(A|B), P(B|A)$\n",
    "* Supón que se lanzan dos monedas justas. Define el evento A como \"la primera moneda cae en cara\" y el evento B como \"la segunda moneda cae en cara\". Comprueba si los eventos A y B son independientes utilizando la definición de independencia.\n",
    "* Supón que una bolsa contiene 3 caramelos de menta, 2 caramelos de fresa y 1 caramelo de limón. Si eliges un caramelo al azar, define el evento A como \"el caramelo es de menta\" y el evento B como \"el caramelo no es de limón\". Comprueba si los eventos A y B son independientes utilizando la definición de independencia.\n",
    "\n",
    "*  Simulación de un problema de Chabelo: El problema de Chabelo es un rompecabezas de probabilidad basado en un juego de televisión llamado En famila con Chabelo. El escenario es el siguiente: se te presentan tres puertas. Detrás de una de ellas se encuentra un coche, y detrás de las otras dos hay cabras. Primero eliges una puerta. Luego, el anfitrión, Monty Hall, que sabe lo que hay detrás de cada puerta, abre una de las puertas que no has elegido para revelar una cabra. Ahora tienes la opción de cambiar tu elección inicial o mantenerla. ¿Deberías cambiar? Usa una simulación en R para determinar si deberías cambiar de puerta o no.\n",
    "* Estimación de la probabilidad de un suceso raro: Se dice que un evento es raro cuando su probabilidad de ocurrencia es muy baja. Supongamos que estamos interesados en el evento A, que tiene una probabilidad de ocurrencia de 0.0001. Crea una función que estime la probabilidad de A utilizando una simulación de Montecarlo** y compara tu estimación con la probabilidad teórica.\n",
    "* Hay tres monedas en una caja. Una tiene dos caras, otra tiene dos águilas y la tercera tiene una cara y un águila. Se saca una moneda al azar se lanza y se observa una cara (las tres monedas tienen la misma probabilidad de ser seleccionadas); ¿cuál es la probabilidad de haber seleccionado la moneda que tiene dos caras?\n",
    "* Un estudiante contesta una pregunta que ofrece cuatro posibles soluciones en un examen de opción múltiple. Se considera que la probabilidad de que el estudiante sepa la respuesta a la pregunta es de 0.8 y la probabilidad de que tenga que contestar al azar es de 0.2. Considera además que la probabilidad de seleccionar la respuesta correcta al azar es 0.25. Si el estudiante contesta correctamente la pregunta, ¿cuál es la probabilidad de que realmente sepa la respuesta?\n",
    "* Considera un examen de 4 preguntas de opción múltiple. Para cada pregunta, debes suponer que la probabilidad de que el estudiante sepa la respuesta a la pregunta es de 0.8 y la probabilidad de que tenga que contestar al azar es de 0.2. Considera además que la probabilidad de seleccionar la respuesta correcta al azar es 0.25.\n",
    "\n",
    "¿Cuál es la probabilidad de sacar 10, esto es, tener las 4 preguntas contestadas correctamente?  Si el alumno obtiene 10 de calificación, ¿cuál es la probabilidad de que haya sabido las 4 respuestas y no haya tenido que contestar ninguna al azar?\n",
    "\n",
    "* En una ciudad, el 2\\% de la población tiene una enfermedad rara. Se sabe que las pruebas para detectar la enfermedad tienen una precisión del 95\\%, es decir, si una persona tiene la enfermedad, la prueba da positivo el 95\\% de las veces. Además, si una persona no tiene la enfermedad, la prueba da negativo el 98\\% de las veces. Si una persona seleccionada al azar da positivo en la prueba, ¿cuál es la probabilidad de que realmente tenga la enfermedad?\n",
    "* Supongamos que en una ciudad hay dos hospitales: el Hospital A y el Hospital B. Se sabe que el 80\\% de los pacientes tienen una enfermedad rara y el 20\\% de los pacientes no la tienen. Además, los hospitales A y B tienen tasas de precisión diferentes en el diagnóstico de la enfermedad.\n",
    "\n",
    "El Hospital A tiene una precisión del 95\\%, es decir, si un paciente tiene la enfermedad, el Hospital A da un diagnóstico positivo el 95\\% de las veces. Sin embargo, si un paciente no tiene la enfermedad, el Hospital A aún puede dar un diagnóstico positivo el 10\\% de las veces por errores.\n",
    "\n",
    "El Hospital B tiene una precisión del 90\\%, es decir, si un paciente tiene la enfermedad, el Hospital B da un diagnóstico positivo el 90\\% de las veces. Pero si un paciente no tiene la enfermedad, el Hospital B puede dar un diagnóstico positivo el 15\\% de las veces por errores. Si un paciente seleccionado al azar recibe un diagnóstico positivo en uno de los hospitales, ¿cuál es la probabilidad de que realmente tenga la enfermedad?\n",
    "\n",
    "* Simulación Montecarlo: una simulación Montecarlo crea un modelo de resultados posibles aprovechando una distribución de probabilidad, por ejemplo, una distribución uniforme o normal, para cualquier variable que tenga una incertidumbre inherente. A continuación, vuelve a calcular los resultados repetidamente, utilizando cada vez un conjunto diferente de números aleatorios, para así aproximrse a un valor real de pobabilidad."
   ]
  },
  {
   "cell_type": "code",
   "execution_count": null,
   "metadata": {},
   "outputs": [],
   "source": []
  }
 ],
 "metadata": {
  "language_info": {
   "name": "python"
  },
  "orig_nbformat": 4
 },
 "nbformat": 4,
 "nbformat_minor": 2
}
