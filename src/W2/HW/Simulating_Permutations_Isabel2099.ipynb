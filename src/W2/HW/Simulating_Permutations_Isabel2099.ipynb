{
  "nbformat": 4,
  "nbformat_minor": 0,
  "metadata": {
    "colab": {
      "provenance": []
    },
    "kernelspec": {
      "name": "ir",
      "display_name": "R"
    },
    "language_info": {
      "name": "R"
    }
  },
  "cells": [
    {
      "cell_type": "markdown",
      "source": [
        "Suppose a license plate in a particular state consists of two letters followed by a number (for example, “CD9” and “EE0” are two possible license plates).\n",
        "\n",
        "1. Write a function to simulate a random license plate.\n",
        "2. Using the replicate() function to simulate 50 random license plates.\n",
        "3. From the simulated plates, approximate the probability there is at least one vowel in the license plate."
      ],
      "metadata": {
        "id": "ZxTEZgMVrl-4"
      }
    },
    {
      "cell_type": "code",
      "source": [
        "generate_license_plate <- function()\n",
        "letters <- c(\"A\", \"B\", \"C\", \"D\", \"E\", \"F\", \"G\", \"H\", \"I\", \"J\", \"K\", \"L\", \"M\", \"N\", \"O\", \"P\", \"Q\", \"R\", \"S\", \"T\", \"U\", \"V\", \"W\", \"X\", \"Y\", \"Z\")\n",
        "vocales <- c(\"A\", \"E\", \"I\", \"O\", \"U\")\n",
        "\n",
        "letra1 <- sample(letters, 1)\n",
        "letra2 <- sample(letters, 1)\n",
        "\n",
        "num <- sample(0:9, 1)\n",
        "\n",
        "license_plate <- paste0(letra1, letra2, num)\n",
        "\n",
        "return(license_plate)"
      ],
      "metadata": {
        "colab": {
          "base_uri": "https://localhost:8080/",
          "height": 34
        },
        "id": "eLMp2hO01_Ui",
        "outputId": "4001dc59-2fe5-4a7e-cf8c-2d64cd88cc12"
      },
      "execution_count": null,
      "outputs": [
        {
          "output_type": "display_data",
          "data": {
            "text/html": [
              "'io5'"
            ],
            "text/markdown": "'io5'",
            "text/latex": "'io5'",
            "text/plain": [
              "[1] \"io5\""
            ]
          },
          "metadata": {}
        }
      ]
    },
    {
      "cell_type": "code",
      "source": [
        "simulated_plates <- replicate(50, license_plate)\n",
        "\n",
        "return(simulated_plates)"
      ],
      "metadata": {
        "colab": {
          "base_uri": "https://localhost:8080/",
          "height": 52
        },
        "id": "M2L5CBLH5BTH",
        "outputId": "b5e70548-0441-4aa1-9a2a-d3e3f25a11b9"
      },
      "execution_count": null,
      "outputs": [
        {
          "output_type": "display_data",
          "data": {
            "text/html": [
              "<style>\n",
              ".list-inline {list-style: none; margin:0; padding: 0}\n",
              ".list-inline>li {display: inline-block}\n",
              ".list-inline>li:not(:last-child)::after {content: \"\\00b7\"; padding: 0 .5ex}\n",
              "</style>\n",
              "<ol class=list-inline><li>'io5'</li><li>'io5'</li><li>'io5'</li><li>'io5'</li><li>'io5'</li><li>'io5'</li><li>'io5'</li><li>'io5'</li><li>'io5'</li><li>'io5'</li><li>'io5'</li><li>'io5'</li><li>'io5'</li><li>'io5'</li><li>'io5'</li><li>'io5'</li><li>'io5'</li><li>'io5'</li><li>'io5'</li><li>'io5'</li><li>'io5'</li><li>'io5'</li><li>'io5'</li><li>'io5'</li><li>'io5'</li><li>'io5'</li><li>'io5'</li><li>'io5'</li><li>'io5'</li><li>'io5'</li><li>'io5'</li><li>'io5'</li><li>'io5'</li><li>'io5'</li><li>'io5'</li><li>'io5'</li><li>'io5'</li><li>'io5'</li><li>'io5'</li><li>'io5'</li><li>'io5'</li><li>'io5'</li><li>'io5'</li><li>'io5'</li><li>'io5'</li><li>'io5'</li><li>'io5'</li><li>'io5'</li><li>'io5'</li><li>'io5'</li></ol>\n"
            ],
            "text/markdown": "1. 'io5'\n2. 'io5'\n3. 'io5'\n4. 'io5'\n5. 'io5'\n6. 'io5'\n7. 'io5'\n8. 'io5'\n9. 'io5'\n10. 'io5'\n11. 'io5'\n12. 'io5'\n13. 'io5'\n14. 'io5'\n15. 'io5'\n16. 'io5'\n17. 'io5'\n18. 'io5'\n19. 'io5'\n20. 'io5'\n21. 'io5'\n22. 'io5'\n23. 'io5'\n24. 'io5'\n25. 'io5'\n26. 'io5'\n27. 'io5'\n28. 'io5'\n29. 'io5'\n30. 'io5'\n31. 'io5'\n32. 'io5'\n33. 'io5'\n34. 'io5'\n35. 'io5'\n36. 'io5'\n37. 'io5'\n38. 'io5'\n39. 'io5'\n40. 'io5'\n41. 'io5'\n42. 'io5'\n43. 'io5'\n44. 'io5'\n45. 'io5'\n46. 'io5'\n47. 'io5'\n48. 'io5'\n49. 'io5'\n50. 'io5'\n\n\n",
            "text/latex": "\\begin{enumerate*}\n\\item 'io5'\n\\item 'io5'\n\\item 'io5'\n\\item 'io5'\n\\item 'io5'\n\\item 'io5'\n\\item 'io5'\n\\item 'io5'\n\\item 'io5'\n\\item 'io5'\n\\item 'io5'\n\\item 'io5'\n\\item 'io5'\n\\item 'io5'\n\\item 'io5'\n\\item 'io5'\n\\item 'io5'\n\\item 'io5'\n\\item 'io5'\n\\item 'io5'\n\\item 'io5'\n\\item 'io5'\n\\item 'io5'\n\\item 'io5'\n\\item 'io5'\n\\item 'io5'\n\\item 'io5'\n\\item 'io5'\n\\item 'io5'\n\\item 'io5'\n\\item 'io5'\n\\item 'io5'\n\\item 'io5'\n\\item 'io5'\n\\item 'io5'\n\\item 'io5'\n\\item 'io5'\n\\item 'io5'\n\\item 'io5'\n\\item 'io5'\n\\item 'io5'\n\\item 'io5'\n\\item 'io5'\n\\item 'io5'\n\\item 'io5'\n\\item 'io5'\n\\item 'io5'\n\\item 'io5'\n\\item 'io5'\n\\item 'io5'\n\\end{enumerate*}\n",
            "text/plain": [
              " [1] \"io5\" \"io5\" \"io5\" \"io5\" \"io5\" \"io5\" \"io5\" \"io5\" \"io5\" \"io5\" \"io5\" \"io5\"\n",
              "[13] \"io5\" \"io5\" \"io5\" \"io5\" \"io5\" \"io5\" \"io5\" \"io5\" \"io5\" \"io5\" \"io5\" \"io5\"\n",
              "[25] \"io5\" \"io5\" \"io5\" \"io5\" \"io5\" \"io5\" \"io5\" \"io5\" \"io5\" \"io5\" \"io5\" \"io5\"\n",
              "[37] \"io5\" \"io5\" \"io5\" \"io5\" \"io5\" \"io5\" \"io5\" \"io5\" \"io5\" \"io5\" \"io5\" \"io5\"\n",
              "[49] \"io5\" \"io5\""
            ]
          },
          "metadata": {}
        }
      ]
    },
    {
      "cell_type": "code",
      "source": [
        "# Simular 50 placas de matrícula aleatorias\n",
        "tiene_vocal <- (simulated_plates,\n",
        "\n",
        "return(tiene_vocal)"
      ],
      "metadata": {
        "colab": {
          "base_uri": "https://localhost:8080/",
          "height": 140
        },
        "id": "HSUzSg7P_j6T",
        "outputId": "3c845d8a-654a-41b3-abac-ada7f99374b2"
      },
      "execution_count": null,
      "outputs": [
        {
          "output_type": "error",
          "ename": "ERROR",
          "evalue": "ignored",
          "traceback": [
            "Error in parse(text = x, srcfile = src): <text>:1:33: unexpected ','\n1: tiene_vocal <- (simulated_plates,\n                                    ^\nTraceback:\n"
          ]
        }
      ]
    },
    {
      "cell_type": "code",
      "source": [
        "# Probabilidad de que salga una vocal\n",
        "probability <- sum(tiene_vocal) / length(tiene_vocal)\n",
        "\n",
        "return(probability)"
      ],
      "metadata": {
        "colab": {
          "base_uri": "https://localhost:8080/",
          "height": 34
        },
        "id": "l9_riCzhFF2e",
        "outputId": "f221518f-fb06-49e4-fde4-5b0c05eee736"
      },
      "execution_count": null,
      "outputs": [
        {
          "output_type": "display_data",
          "data": {
            "text/html": [
              "0"
            ],
            "text/markdown": "0",
            "text/latex": "0",
            "text/plain": [
              "[1] 0"
            ]
          },
          "metadata": {}
        }
      ]
    }
  ]
}