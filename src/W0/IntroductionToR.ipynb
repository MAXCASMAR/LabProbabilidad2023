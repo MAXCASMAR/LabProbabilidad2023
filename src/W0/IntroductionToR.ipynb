{
  "cells": [
    {
      "cell_type": "markdown",
      "metadata": {
        "id": "JInBBlqbMPp0"
      },
      "source": [
        "# How to install packages"
      ]
    },
    {
      "cell_type": "code",
      "execution_count": null,
      "metadata": {
        "colab": {
          "base_uri": "https://localhost:8080/"
        },
        "id": "5nI1hJYcMO94",
        "outputId": "73a490e4-77b2-45e9-ff3a-acdb46d6411c",
        "vscode": {
          "languageId": "r"
        }
      },
      "outputs": [
        {
          "name": "stderr",
          "output_type": "stream",
          "text": [
            "Installing package into ‘/usr/local/lib/R/site-library’\n",
            "(as ‘lib’ is unspecified)\n",
            "\n"
          ]
        }
      ],
      "source": [
        "package_name = \"readxl\"\n",
        "install.packages(package_name)"
      ]
    },
    {
      "cell_type": "markdown",
      "metadata": {
        "id": "hmnOaa9bMn93"
      },
      "source": [
        "# Load the package"
      ]
    },
    {
      "cell_type": "code",
      "execution_count": null,
      "metadata": {
        "id": "IjrJId2FMKCz",
        "vscode": {
          "languageId": "r"
        }
      },
      "outputs": [],
      "source": [
        "library(package_name)"
      ]
    },
    {
      "cell_type": "markdown",
      "metadata": {
        "id": "ee9xJUeTMqub"
      },
      "source": []
    },
    {
      "cell_type": "markdown",
      "metadata": {
        "id": "Cn033KoIPg1t"
      },
      "source": [
        "# BASIC DATA TYPES IN R"
      ]
    },
    {
      "cell_type": "code",
      "execution_count": null,
      "metadata": {
        "colab": {
          "base_uri": "https://localhost:8080/"
        },
        "id": "gQby3v9cPd8P",
        "outputId": "16a8de85-5d11-402c-9ebe-318dcf4597d9",
        "vscode": {
          "languageId": "r"
        }
      },
      "outputs": [
        {
          "name": "stdout",
          "output_type": "stream",
          "text": [
            "[1] \"Numeric: 42\"\n",
            "[1] \"Character: Hello, World!\"\n",
            "[1] \"Logical: TRUE\"\n",
            "[1] \"Complex: 1+2i\"\n",
            "[1] \"Integer: 2\"\n"
          ]
        }
      ],
      "source": [
        "# 1. Numeric\n",
        "num <- 42\n",
        "print(paste(\"Numeric:\", num))\n",
        "\n",
        "# 2. Character\n",
        "char <- \"Hello, World!\"\n",
        "print(paste(\"Character:\", char))\n",
        "\n",
        "# 3. Logical\n",
        "log_val <- TRUE\n",
        "print(paste(\"Logical:\", log_val))\n",
        "\n",
        "# 4. Complex\n",
        "comp <- 1 + 2i\n",
        "print(paste(\"Complex:\", comp))\n",
        "\n",
        "# 5. Integer\n",
        "int_val <- 2L\n",
        "print(paste(\"Integer:\", int_val))\n",
        "\n"
      ]
    },
    {
      "cell_type": "markdown",
      "metadata": {
        "id": "MKUhqLfdPlEd"
      },
      "source": [
        "# ARRAYS IN R"
      ]
    },
    {
      "cell_type": "code",
      "execution_count": null,
      "metadata": {
        "colab": {
          "base_uri": "https://localhost:8080/"
        },
        "id": "rS4lR6xBL87W",
        "outputId": "454b0c80-202e-4538-d085-165af73e3ec7",
        "vscode": {
          "languageId": "r"
        }
      },
      "outputs": [
        {
          "name": "stdout",
          "output_type": "stream",
          "text": [
            "[1] \"Vector:\"\n",
            "[1] 1 2 3 4 5\n",
            "[1] \"Second element of vector: 2\"\n",
            "[1] \"Matrix:\"\n",
            "     [,1] [,2] [,3]\n",
            "[1,]    1    4    7\n",
            "[2,]    2    5    8\n",
            "[3,]    3    6    9\n",
            "[1] \"Element at 2nd row, 3rd column: 8\"\n",
            "[1] \"3D Array:\"\n",
            ", , 1\n",
            "\n",
            "     [,1] [,2] [,3] [,4]\n",
            "[1,]    1    4    7   10\n",
            "[2,]    2    5    8   11\n",
            "[3,]    3    6    9   12\n",
            "\n",
            ", , 2\n",
            "\n",
            "     [,1] [,2] [,3] [,4]\n",
            "[1,]   13   16   19   22\n",
            "[2,]   14   17   20   23\n",
            "[3,]   15   18   21   24\n",
            "\n",
            "[1] \"Element at 2nd row, 1st column, 2nd layer: 14\"\n",
            "[1] \"List:\"\n",
            "$name\n",
            "[1] \"John\"\n",
            "\n",
            "$age\n",
            "[1] 30\n",
            "\n",
            "$scores\n",
            "[1] 90 80 85\n",
            "\n",
            "[1] \"Name from the list: John\"\n",
            "[1] \"Data frame:\"\n",
            "  Name Age Score\n",
            "1 John  30    85\n",
            "2 Jane  25    90\n",
            "3  Doe  35    75\n",
            "[1] \"Score of the second person: 90\"\n"
          ]
        }
      ],
      "source": [
        "# 1. Vectors (1D array)\n",
        "vector <- c(1, 2, 3, 4, 5)\n",
        "vector = c(1, 2, 3, 4, 5)\n",
        "print(\"Vector:\")\n",
        "print(vector)\n",
        "\n",
        "# Accessing elements in a vector\n",
        "print(paste(\"Second element of vector:\", vector[2]))\n",
        "\n",
        "# 2. Matrices (2D array)\n",
        "matrix <- matrix(1:9, nrow=3)\n",
        "print(\"Matrix:\")\n",
        "print(matrix)\n",
        "\n",
        "# Accessing elements in a matrix\n",
        "print(paste(\"Element at 2nd row, 3rd column:\", matrix[2, 3]))\n",
        "\n",
        "# 3. Arrays (multi-dimensional)\n",
        "array_3d <- array(1:24, dim=c(3,4,2))\n",
        "print(\"3D Array:\")\n",
        "print(array_3d)\n",
        "\n",
        "# Accessing elements in a 3D array\n",
        "print(paste(\"Element at 2nd row, 1st column, 2nd layer:\", array_3d[2, 1, 2]))\n",
        "\n",
        "# 4. Lists (can contain elements of different types)\n",
        "list_data <- list(name=\"John\", age=30, scores=c(90, 80, 85))\n",
        "print(\"List:\")\n",
        "print(list_data)\n",
        "\n",
        "# Accessing elements in a list\n",
        "print(paste(\"Name from the list:\", list_data$name))\n",
        "\n",
        "# 5. Data frames (tabular data storage)\n",
        "df <- data.frame(\n",
        "  Name=c(\"John\", \"Jane\", \"Doe\"),\n",
        "  Age=c(30, 25, 35),\n",
        "  Score=c(85, 90, 75)\n",
        ")\n",
        "print(\"Data frame:\")\n",
        "print(df)\n",
        "\n",
        "# Accessing elements in a data frame\n",
        "print(paste(\"Score of the second person:\", df$Score[2]))\n"
      ]
    },
    {
      "cell_type": "markdown",
      "metadata": {
        "id": "GawKeVAEUpAB"
      },
      "source": [
        "# Ej 1:   Genera un número aleatorio entre 1 y 1000 y determina si es par o impar. Explica cómo esto se relaciona con los fenómenos aleatorios e incertidumbre."
      ]
    },
    {
      "cell_type": "code",
      "execution_count": null,
      "metadata": {
        "colab": {
          "base_uri": "https://localhost:8080/"
        },
        "id": "B6pwDq84Up0U",
        "outputId": "e7c8b17f-6d6f-402f-86f3-44050a99f003",
        "vscode": {
          "languageId": "r"
        }
      },
      "outputs": [
        {
          "name": "stdout",
          "output_type": "stream",
          "text": [
            "[1] \"415 is odd\"\n"
          ]
        }
      ],
      "source": [
        "set.seed(123) # for reproducibility\n",
        "\n",
        "\n",
        "num <- sample(1:1000, 1)\n",
        "\n",
        "if (num %% 2 == 0) {\n",
        "  print(paste(num, \"is even\"))\n",
        "}\n",
        "else {\n",
        "  print(paste(num, \"is odd\"))\n",
        "}\n"
      ]
    }
  ],
  "metadata": {
    "colab": {
      "provenance": []
    },
    "kernelspec": {
      "display_name": "R",
      "name": "ir"
    },
    "language_info": {
      "name": "R"
    }
  },
  "nbformat": 4,
  "nbformat_minor": 0
}
