{
 "cells": [
  {
   "attachments": {},
   "cell_type": "markdown",
   "metadata": {},
   "source": [
    "# What is Github?\n",
    "\n",
    "GitHub is a web-based platform primarily used for version control and collaboration. It allows multiple people to work on projects simultaneously without interfering with each other's progress. Built on Git, a distributed version control system, GitHub offers a graphical interface to manage repositories, review code, and collaborate with other developers. It has become an essential tool for developers worldwide, hosting millions of repositories and offering features like issue tracking, pull requests, and actions for automation."
   ]
  },
  {
   "attachments": {},
   "cell_type": "markdown",
   "metadata": {},
   "source": [
    "# What is Github CLI?\n",
    "GitHub CLI (Command-Line Interface) is a tool that allows users to interact with GitHub directly from their terminal or command prompt. Instead of using the GitHub website's graphical interface, developers can execute commands in their local environments to perform actions like cloning repositories, creating pull requests, or checking issues. GitHub CLI streamlines tasks and can make certain workflows more efficient for those comfortable with command-line operations."
   ]
  },
  {
   "attachments": {},
   "cell_type": "markdown",
   "metadata": {},
   "source": [
    "# What is Git?\n",
    "\n",
    "Git is a distributed version control system designed to handle everything from small to very large projects with speed and efficiency. It allows multiple developers to work on the same codebase simultaneously without overwriting each other's changes. Instead of having a central repository, every developer gets a local copy, or clone, of the entire repository. Changes are made locally, then committed and pushed to shared repositories when ready. This architecture enables powerful branching and merging capabilities, making it easier to experiment with new features or fix bugs in parallel. Originally developed by Linus Torvalds in 2005 for Linux kernel development, Git has since become the de facto standard for version control in the software development world."
   ]
  },
  {
   "attachments": {},
   "cell_type": "markdown",
   "metadata": {},
   "source": [
    "# Differences\n",
    "\n",
    "## Git:\n",
    "\n",
    "    Nature: Git is a distributed version control system.\n",
    "    Purpose: It tracks changes in files and allows multiple developers to collaborate on the same codebase without interfering with each other's work.\n",
    "    Usage: Git is used locally on a developer's machine and can operate without any online platform or interface.\n",
    "    Origin: Created by Linus Torvalds in 2005, Git has become the standard for version control in the software development world.\n",
    "\n",
    "\n",
    "## GitHub:\n",
    "\n",
    "    Nature: GitHub is a web-based platform and service.\n",
    "    Purpose: It provides hosting for Git repositories, offering a graphical interface for various version control and collaboration features.\n",
    "    Usage: Developers use GitHub to host, share, and collaborate on code projects, both open-source and private. It provides features like pull requests, issue tracking, GitHub Actions, and more.\n",
    "    Relation to Git: Built on top of Git, GitHub extends Git's functionality, making it more collaborative and accessible to a broader audience.\n",
    "\n",
    "\n",
    "## GitHub CLI:\n",
    "\n",
    "    Nature: GitHub CLI (Command-Line Interface) is a tool or utility.\n",
    "    Purpose: It offers a way to interact with GitHub directly from a user's terminal or command prompt.\n",
    "    Usage: Instead of navigating and performing actions on the GitHub website, users can execute commands locally to perform various GitHub-related tasks, such as creating pull requests, checking issues, or managing repositories.\n",
    "    Relation to GitHub: GitHub CLI serves as a bridge between the local machine and GitHub, enabling command-line operations for the platform's functionality.\n",
    "\n",
    "In essence, while Git is the underlying version control system that tracks changes in code, GitHub is a platform built on top of Git, offering a suite of tools for collaboration and code hosting. GitHub CLI is a complementary tool to GitHub, allowing command-line access to the platform's features."
   ]
  },
  {
   "attachments": {},
   "cell_type": "markdown",
   "metadata": {},
   "source": [
    "# Step 1: Github CLI Installation\n",
    "\n",
    "Follow the steps in the terminal:\n",
    "\n",
    "https://github.com/cli/cli#installation\n",
    "\n",
    "\n",
    "# Step 2: Setting your username in Git\n",
    "\n",
    "Follow the steps in the terminal:\n",
    "\n",
    "https://docs.github.com/en/get-started/getting-started-with-git/setting-your-username-in-git"
   ]
  },
  {
   "cell_type": "code",
   "execution_count": null,
   "metadata": {},
   "outputs": [],
   "source": []
  }
 ],
 "metadata": {
  "language_info": {
   "name": "python"
  },
  "orig_nbformat": 4
 },
 "nbformat": 4,
 "nbformat_minor": 2
}
