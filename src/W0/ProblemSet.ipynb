{
 "cells": [
  {
   "attachments": {},
   "cell_type": "markdown",
   "metadata": {},
   "source": [
    "# Exercises Week 0"
   ]
  },
  {
   "attachments": {},
   "cell_type": "markdown",
   "metadata": {},
   "source": [
    "* Generar 10 números aleatorios entre 0 y 1. ¿Cómo interpretarías estos números en términos de incertidumbre?\n",
    "* Simula el lanzamiento de un dado de seis caras 100 veces. ¿Cuántas veces se obtiene cada número? ¿Cómo se relaciona esto con la incertidumbre y los fenómenos aleatorios?\n",
    "* Crea una función que simula el lanzamiento de una moneda n veces, donde n es un parámetro de entrada. La función debe devolver el número de \"caras\" y \"cruces\" obtenidas.\n",
    "* Considera un experimento donde lanzas una moneda y un dado al mismo tiempo. Crea una función en R que simula este experimento n veces y devuelve la frecuencia relativa de cada posible resultado.\n",
    "* Genera una secuencia de números aleatorios entre 1 y 5. El número generado determinará cuántas veces lanzas una moneda. Haz esto 100 veces y registra cuántas \"caras\" y \"cruces\" obtienes en total. ¿Cómo interpretarías estos resultados en términos de fenómenos aleatorios e incertidumbre?\n",
    "* Escribe una función que simule el lanzamiento de dos dados y devuelva la suma de los resultados. Ejecuta esta función 500 veces y haz un histograma de los resultados. ¿Cómo se relaciona esto con la incertidumbre y los fenómenos aleatorios?\n",
    "* Escribe una función que genere n números aleatorios entre 1 y 100. La función debe devolver el número mínimo, el número máximo, la media y la desviación estándar de los números generados.\n",
    "* Simula el lanzamiento de una moneda 50 veces y calcula la proporción de \"caras\". Repite este proceso 1000 veces y haz un histograma de las proporciones obtenidas. ¿Cómo interpretarías este histograma en términos de incertidumbre y fenómenos aleatorios?\n",
    "* Genera un espacio muestral para el lanzamiento de dos dados y muestra todos los resultados posibles.\n",
    "* Genera un espacio muestral para el lanzamiento de una moneda y un dado al mismo tiempo. Luego, calcula la probabilidad de que la moneda muestre \"cara\" y el dado muestre un número par.\n",
    "* Genera un espacio muestral para seleccionar dos cartas de una baraja de 52 cartas. Luego, calcula la probabilidad de que ambas cartas sean ases.\n",
    "* Genera un espacio muestral para el lanzamiento de tres monedas. Luego, calcula la probabilidad de obtener al menos dos \"caras\".\n",
    "* Crea un espacio muestral de todos los posibles resultados cuando se lanza un dado y se gira una ruleta al mismo tiempo. Asume que la ruleta tiene 10 posiciones numeradas del 0 al 9.\n",
    "* Crea un espacio muestral de todos los posibles resultados cuando se lanzan dos monedas y se tira un dado. Luego, calcula la probabilidad de obtener dos \"caras\" y un número par en el dado.\n",
    "* Genera un espacio muestral para seleccionar tres libros de una estantería de 10 libros. Luego, calcula la probabilidad de que el primer libro seleccionado sea el tercero en la estantería.\n",
    "* Genera un espacio muestral para el lanzamiento de tres dados. Luego, calcula la probabilidad de que la suma de los resultados sea mayor que 10.\n",
    "* Simula el lanzamiento de una moneda justa 1000 veces. Luego, calcula la proporción de \"caras\" para demostrar la ley de grandes números.\n",
    "* Lanza un dado justo 500 veces y calcula la probabilidad de que caiga un número par. Compara esta probabilidad con la probabilidad clásica de 1/2.\n",
    "* Usando el conjunto de datos mtcars en R, calcula la probabilidad empírica de que un coche seleccionado al azar tenga más de 100 caballos de fuerza (hp).\n",
    "* Demuestra con un ejemplo el primer axioma de probabilidad (la probabilidad de un evento es un número no negativo) lanzando una moneda 1000 veces y calculando la probabilidad de \"cara\".\n",
    "* Demuestra con un ejemplo el segundo axioma de probabilidad (la probabilidad de que ocurra al menos un evento en el espacio muestral es 1) lanzando un dado y observando que la probabilidad de que caiga algún número del 1 al 6 es 1.\n",
    "* Demuestra con un ejemplo el tercer axioma de probabilidad (la probabilidad de la unión de dos eventos mutuamente exclusivos es la suma de sus probabilidades individuales) lanzando dos dados y calculando la probabilidad de que la suma sea 2 o 12.\n",
    "* Utiliza un enfoque frecuentista para estimar la probabilidad de que una persona seleccionada al azar de un conjunto de datos tenga más de 30 años. Puedes utilizar el conjunto de datos mtcars en R, donde la variable age representa la edad de una persona.\n",
    "* Considera una urna con 5 bolas rojas, 3 bolas azules y 2 bolas verdes. Si eliges una bola al azar, calcula la probabilidad clásica de que sea azul.\n",
    "\n"
   ]
  },
  {
   "cell_type": "code",
   "execution_count": null,
   "metadata": {},
   "outputs": [],
   "source": []
  },
  {
   "cell_type": "code",
   "execution_count": null,
   "metadata": {},
   "outputs": [],
   "source": []
  }
 ],
 "metadata": {
  "language_info": {
   "name": "python"
  },
  "orig_nbformat": 4
 },
 "nbformat": 4,
 "nbformat_minor": 2
}
