{
 "cells": [
  {
   "cell_type": "markdown",
   "metadata": {},
   "source": [
    "# How to run R code in Google Colab?\n",
    "\n",
    "Open: \n",
    "        https://colab.research.google.com/#create=true&language=r"
   ]
  },
  {
   "cell_type": "markdown",
   "metadata": {},
   "source": [
    "\n",
    "## Google Colab: An Introduction for Probability Students\n",
    "\n",
    "### What is Google Colab?\n",
    "Google Colab (or Colaboratory) is a free, cloud-based platform provided by Google that allows users to write and execute R code in a browser-based interface. It looks and feels similar to Jupyter Notebooks, which is a popular tool among data scientists and researchers. Google Colab comes equipped with built-in access to GPUs (Graphics Processing Units) and TPUs (Tensor Processing Units), making it ideal for heavy computational tasks.\n",
    "\n",
    "### Why use Google Colab for our Probability course?\n",
    "\n",
    "* No Installation Required: Google Colab runs entirely in the cloud, eliminating the need for students to set up complex environments on their machines. This ensures everyone, irrespective of their system configuration, can participate and work on assignments seamlessly.\n",
    "* Accessible from Anywhere: As it's browser-based, students can access their work from any location and device, as long as they have internet connectivity.\n",
    "* Free GPU/TPU Access: For more computationally intensive problems, especially simulations or tasks involving large datasets, the free access to GPUs and TPUs can significantly speed up computations.\n",
    "* Interactive Visualizations: Google Colab integrates well with various R libraries, enabling students to visualize probability distributions, simulations, and other relevant data in an interactive manner.\n",
    "* Collaboration: Students can collaborate in real-time, making group assignments or study sessions more effective.\n",
    "* Integration with Google Drive: Files can be saved directly to Google Drive, making storage and sharing even easier.\n",
    "\n"
   ]
  },
  {
   "cell_type": "code",
   "execution_count": null,
   "metadata": {},
   "outputs": [],
   "source": []
  }
 ],
 "metadata": {
  "language_info": {
   "name": "python"
  },
  "orig_nbformat": 4
 },
 "nbformat": 4,
 "nbformat_minor": 2
}
