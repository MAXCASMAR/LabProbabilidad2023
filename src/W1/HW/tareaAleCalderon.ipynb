{
  "nbformat": 4,
  "nbformat_minor": 0,
  "metadata": {
    "colab": {
      "provenance": []
    },
    "kernelspec": {
      "name": "ir",
      "display_name": "R"
    },
    "language_info": {
      "name": "R"
    }
  },
  "cells": [
    {
      "cell_type": "markdown",
      "source": [
        "1. Generar 10 números aleatorios entre 0 y 1. ¿Cómo interpretarías estos números en términos de incertidumbre?"
      ],
      "metadata": {
        "id": "VsGy8K7_fcxr"
      }
    },
    {
      "cell_type": "code",
      "source": [
        "nums <- runif(10)\n",
        "print(nums)\n"
      ],
      "metadata": {
        "id": "adkyIFUIff9a",
        "outputId": "4b7e8bf0-c35b-4ffb-d34c-21d8ac91ebf2",
        "colab": {
          "base_uri": "https://localhost:8080/"
        }
      },
      "execution_count": null,
      "outputs": [
        {
          "output_type": "stream",
          "name": "stdout",
          "text": [
            " [1] 0.4913035 0.8814685 0.3021877 0.1892448 0.1469457 0.8020055 0.4793663\n",
            " [8] 0.6974291 0.2286386 0.7407053\n"
          ]
        }
      ]
    },
    {
      "cell_type": "markdown",
      "source": [
        "8. Simula el lanzamiento de una moneda 50 veces y calcula la proporción de \"caras\". Repite este proceso 1000 veces y haz un histograma de las proporciones obtenidas. ¿Cómo interpretarías este histograma en términos de incertidumbre y fenómenos aleatorios?"
      ],
      "metadata": {
        "id": "Ul6wg1ESgOy7"
      }
    },
    {
      "cell_type": "code",
      "source": [
        "n_simulaciones <- 1000\n",
        "n_lanzamientos <- 50\n",
        "espacio_muestral <- c(\"cara\", \"cruz\")\n",
        "tiradas <- sample(espacio_muestral, n_lanzamientos, replace = TRUE)\n",
        "resultados <- replicate(n_simulaciones, sum(tiradas == \"cara\"))\n",
        "porp_caras <- mean(resultados)\n",
        "porp_caras\n",
        "histograma=hist(x=c(porp_caras))\n",
        "histograma"
      ],
      "metadata": {
        "id": "Mz0VM1Y5gQpd",
        "outputId": "6560c301-6c06-434e-c58b-95b4a3fa2030",
        "colab": {
          "base_uri": "https://localhost:8080/",
          "height": 812
        }
      },
      "execution_count": 7,
      "outputs": [
        {
          "output_type": "display_data",
          "data": {
            "text/html": [
              "25"
            ],
            "text/markdown": "25",
            "text/latex": "25",
            "text/plain": [
              "[1] 25"
            ]
          },
          "metadata": {}
        },
        {
          "output_type": "display_data",
          "data": {
            "text/plain": [
              "$breaks\n",
              "[1] 20 30\n",
              "\n",
              "$counts\n",
              "[1] 1\n",
              "\n",
              "$density\n",
              "[1] 0.1\n",
              "\n",
              "$mids\n",
              "[1] 25\n",
              "\n",
              "$xname\n",
              "[1] \"c(porp_caras)\"\n",
              "\n",
              "$equidist\n",
              "[1] TRUE\n",
              "\n",
              "attr(,\"class\")\n",
              "[1] \"histogram\""
            ]
          },
          "metadata": {}
        },
        {
          "output_type": "display_data",
          "data": {
            "text/plain": [
              "Plot with title “Histogram of c(porp_caras)”"
            ],
            "image/png": "[encoded data removed]"
          },
          "metadata": {
            "image/png": {
              "width": 420,
              "height": 420
            }
          }
        }
      ]
    },
    {
      "cell_type": "markdown",
      "source": [
        "15. Genera un espacio muestral para seleccionar tres libros de una estantería de 10 libros. Luego, calcula la probabilidad de que el primer libro seleccionado sea el tercero en la estantería."
      ],
      "metadata": {
        "id": "bgpQeeP-hUO6"
      }
    },
    {
      "cell_type": "code",
      "source": [
        " choose(10, 3)\n",
        "\n"
      ],
      "metadata": {
        "id": "Gj8pJSt3hXV0",
        "outputId": "1da2ff4a-5892-4a68-96e5-9c40df757558",
        "colab": {
          "base_uri": "https://localhost:8080/",
          "height": 34
        }
      },
      "execution_count": null,
      "outputs": [
        {
          "output_type": "display_data",
          "data": {
            "text/html": [
              "120"
            ],
            "text/markdown": "120",
            "text/latex": "120",
            "text/plain": [
              "[1] 120"
            ]
          },
          "metadata": {}
        }
      ]
    },
    {
      "cell_type": "markdown",
      "source": [],
      "metadata": {
        "id": "GVLPiO8jk8RJ"
      }
    }
  ]
}