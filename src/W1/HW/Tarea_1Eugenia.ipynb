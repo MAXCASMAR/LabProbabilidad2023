{
  "nbformat": 4,
  "nbformat_minor": 0,
  "metadata": {
    "colab": {
      "provenance": []
    },
    "kernelspec": {
      "name": "ir",
      "display_name": "R"
    },
    "language_info": {
      "name": "R"
    }
  },
  "cells": [
    {
      "cell_type": "markdown",
      "source": [
        "4. Considera un experimento donde lanzas una moneda y un dado al mismo tiempo. Crea una función en R que simula este experimento n veces y devuelve la frecuencia relativa de cada posible resultado."
      ],
      "metadata": {
        "id": "TuFIgR9nybXF"
      }
    },
    {
      "cell_type": "code",
      "source": [
        "experimento <- function(n) {\n",
        "  resultados <- vector(\"list\", n)\n",
        "\n",
        "  for (i in 1:n) {\n",
        "    moneda <- sample(c(\"cara\", \"cruz\"), 1, replace = TRUE)\n",
        "    dado <- sample(1:6, 1, replace = TRUE)\n",
        "    resultados [[i]] <- paste(moneda, dado)\n",
        "  }\n",
        "  return(resultados)\n",
        "}\n",
        "resultados"
      ],
      "metadata": {
        "colab": {
          "base_uri": "https://localhost:8080/",
          "height": 107
        },
        "id": "wleWn5vFymZK",
        "outputId": "6661249e-0cbf-43c5-e1f1-7d8bc30adc47"
      },
      "execution_count": 16,
      "outputs": [
        {
          "output_type": "error",
          "ename": "ERROR",
          "evalue": "ignored",
          "traceback": [
            "Error in eval(expr, envir, enclos): object 'resultados' not found\nTraceback:\n"
          ]
        }
      ]
    },
    {
      "cell_type": "markdown",
      "source": [
        "11. Genera un espacio muestral para seleccionar dos cartas de una baraja de 52 cartas. Luego, calcula la probabilidad de que ambas cartas sean ases."
      ],
      "metadata": {
        "id": "GJyBH7LPyoMM"
      }
    },
    {
      "cell_type": "code",
      "source": [
        "tipo <- c(\"Corazones\", \"Diamantes\", \"Tréboles\", \"Picas\")\n",
        "cartas <- c(\"As\", \"2\", \"3\", \"4\", \"5\", \"6\", \"7\", \"8\", \"9\", \"10\", \"J\", \"Q\", \"K\")\n",
        "\n",
        "combinaciones <- expand.grid(tipo = tipo)\n",
        "\n",
        "aces <- combinaciones[combinaciones$tipo == \"As\", ]\n",
        "\n",
        "aces"
      ],
      "metadata": {
        "colab": {
          "base_uri": "https://localhost:8080/",
          "height": 34
        },
        "id": "sFFiLIROypV4",
        "outputId": "640e4eab-4b21-48d6-8ec2-3e430c64c34a"
      },
      "execution_count": 2,
      "outputs": [
        {
          "output_type": "display_data",
          "data": {
            "text/html": [
              "\n",
              "<details>\n",
              "\t<summary style=display:list-item;cursor:pointer>\n",
              "\t\t<strong>Levels</strong>:\n",
              "\t</summary>\n",
              "\t<style>\n",
              "\t.list-inline {list-style: none; margin:0; padding: 0}\n",
              "\t.list-inline>li {display: inline-block}\n",
              "\t.list-inline>li:not(:last-child)::after {content: \"\\00b7\"; padding: 0 .5ex}\n",
              "\t</style>\n",
              "\t<ol class=list-inline><li>'Corazones'</li><li>'Diamantes'</li><li>'Tréboles'</li><li>'Picas'</li></ol>\n",
              "</details>"
            ],
            "text/markdown": "\n**Levels**: 1. 'Corazones'\n2. 'Diamantes'\n3. 'Tréboles'\n4. 'Picas'\n\n\n",
            "text/latex": "\n\\emph{Levels}: \\begin{enumerate*}\n\\item 'Corazones'\n\\item 'Diamantes'\n\\item 'Tréboles'\n\\item 'Picas'\n\\end{enumerate*}\n",
            "text/plain": [
              "factor()\n",
              "Levels: Corazones Diamantes Tréboles Picas"
            ]
          },
          "metadata": {}
        }
      ]
    },
    {
      "cell_type": "markdown",
      "source": [
        "18. Lanza un dado justo 500 veces y calcula la probabilidad de que caiga un número par. Compara esta probabilidad con la probabilidad clásica de 1/2."
      ],
      "metadata": {
        "id": "YRGL08Khyupe"
      }
    },
    {
      "cell_type": "code",
      "source": [
        "lanzamientos <- 500\n",
        "tiradas <- sample(1:6, lanzamientos, replace = TRUE)\n",
        "\n",
        "par <- sum(tiradas %% 2 == 0)\n",
        "\n",
        "proba <- par / lanzamientos\n",
        "\n",
        "proba"
      ],
      "metadata": {
        "colab": {
          "base_uri": "https://localhost:8080/",
          "height": 34
        },
        "id": "wVeFa6MeyvrE",
        "outputId": "79065a24-6fe9-4891-a974-ed9142723c67"
      },
      "execution_count": 3,
      "outputs": [
        {
          "output_type": "display_data",
          "data": {
            "text/html": [
              "0.52"
            ],
            "text/markdown": "0.52",
            "text/latex": "0.52",
            "text/plain": [
              "[1] 0.52"
            ]
          },
          "metadata": {}
        }
      ]
    },
    {
      "cell_type": "code",
      "source": [],
      "metadata": {
        "id": "ArevXfsP1vL3"
      },
      "execution_count": null,
      "outputs": []
    }
  ]
}