{
  "cells": [
    {
      "cell_type": "markdown",
      "metadata": {
        "id": "TuFIgR9nybXF"
      },
      "source": [
        "4. Considera un experimento donde lanzas una moneda y un dado al mismo tiempo. Crea una función en R que simula este experimento n veces y devuelve la frecuencia relativa de cada posible resultado."
      ]
    },
    {
      "cell_type": "code",
      "execution_count": 16,
      "metadata": {
        "colab": {
          "base_uri": "https://localhost:8080/",
          "height": 107
        },
        "id": "wleWn5vFymZK",
        "outputId": "6661249e-0cbf-43c5-e1f1-7d8bc30adc47",
        "vscode": {
          "languageId": "r"
        }
      },
      "outputs": [
        {
          "ename": "ERROR",
          "evalue": "ignored",
          "output_type": "error",
          "traceback": [
            "Error in eval(expr, envir, enclos): object 'resultados' not found\nTraceback:\n"
          ]
        }
      ],
      "source": [
        "experimento <- function(n) {\n",
        "  resultados <- vector(\"list\", n) \n",
        "  \n",
        "\n",
        "  for (i in 1:n) {\n",
        "    moneda <- sample(c(\"cara\", \"cruz\"), 1, replace = TRUE)\n",
        "    dado <- sample(1:6, 1, replace = TRUE)\n",
        "    resultados [[i]] <- paste(moneda, dado)\n",
        "  }\n",
        "  return(resultados)\n",
        "}\n",
        "resultados"
      ]
    },
    {
      "cell_type": "markdown",
      "metadata": {
        "id": "GJyBH7LPyoMM"
      },
      "source": [
        "11. Genera un espacio muestral para seleccionar dos cartas de una baraja de 52 cartas. Luego, calcula la probabilidad de que ambas cartas sean ases."
      ]
    },
    {
      "cell_type": "code",
      "execution_count": 2,
      "metadata": {
        "colab": {
          "base_uri": "https://localhost:8080/",
          "height": 34
        },
        "id": "sFFiLIROypV4",
        "outputId": "640e4eab-4b21-48d6-8ec2-3e430c64c34a",
        "vscode": {
          "languageId": "r"
        }
      },
      "outputs": [
        {
          "data": {
            "text/html": [
              "\n",
              "<details>\n",
              "\t<summary style=display:list-item;cursor:pointer>\n",
              "\t\t<strong>Levels</strong>:\n",
              "\t</summary>\n",
              "\t<style>\n",
              "\t.list-inline {list-style: none; margin:0; padding: 0}\n",
              "\t.list-inline>li {display: inline-block}\n",
              "\t.list-inline>li:not(:last-child)::after {content: \"\\00b7\"; padding: 0 .5ex}\n",
              "\t</style>\n",
              "\t<ol class=list-inline><li>'Corazones'</li><li>'Diamantes'</li><li>'Tréboles'</li><li>'Picas'</li></ol>\n",
              "</details>"
            ],
            "text/latex": [
              "\n",
              "\\emph{Levels}: \\begin{enumerate*}\n",
              "\\item 'Corazones'\n",
              "\\item 'Diamantes'\n",
              "\\item 'Tréboles'\n",
              "\\item 'Picas'\n",
              "\\end{enumerate*}\n"
            ],
            "text/markdown": [
              "\n",
              "**Levels**: 1. 'Corazones'\n",
              "2. 'Diamantes'\n",
              "3. 'Tréboles'\n",
              "4. 'Picas'\n",
              "\n",
              "\n"
            ],
            "text/plain": [
              "factor()\n",
              "Levels: Corazones Diamantes Tréboles Picas"
            ]
          },
          "metadata": {},
          "output_type": "display_data"
        }
      ],
      "source": [
        "tipo <- c(\"Corazones\", \"Diamantes\", \"Tréboles\", \"Picas\")\n",
        "cartas <- c(\"As\", \"2\", \"3\", \"4\", \"5\", \"6\", \"7\", \"8\", \"9\", \"10\", \"J\", \"Q\", \"K\")\n",
        "\n",
        "combinaciones <- expand.grid(tipo = tipo)\n",
        "\n",
        "aces <- combinaciones[combinaciones$tipo == \"As\", ]\n",
        "\n",
        "aces"
      ]
    },
    {
      "cell_type": "markdown",
      "metadata": {
        "id": "YRGL08Khyupe"
      },
      "source": [
        "18. Lanza un dado justo 500 veces y calcula la probabilidad de que caiga un número par. Compara esta probabilidad con la probabilidad clásica de 1/2."
      ]
    },
    {
      "cell_type": "code",
      "execution_count": 3,
      "metadata": {
        "colab": {
          "base_uri": "https://localhost:8080/",
          "height": 34
        },
        "id": "wVeFa6MeyvrE",
        "outputId": "79065a24-6fe9-4891-a974-ed9142723c67",
        "vscode": {
          "languageId": "r"
        }
      },
      "outputs": [
        {
          "data": {
            "text/html": [
              "0.52"
            ],
            "text/latex": [
              "0.52"
            ],
            "text/markdown": [
              "0.52"
            ],
            "text/plain": [
              "[1] 0.52"
            ]
          },
          "metadata": {},
          "output_type": "display_data"
        }
      ],
      "source": [
        "lanzamientos <- 500\n",
        "tiradas <- sample(1:6, lanzamientos, replace = TRUE)\n",
        "\n",
        "par <- sum(tiradas %% 2 == 0)\n",
        "\n",
        "proba <- par / lanzamientos\n",
        "\n",
        "proba"
      ]
    },
    {
      "cell_type": "code",
      "execution_count": null,
      "metadata": {
        "id": "ArevXfsP1vL3",
        "vscode": {
          "languageId": "r"
        }
      },
      "outputs": [],
      "source": []
    }
  ],
  "metadata": {
    "colab": {
      "provenance": []
    },
    "kernelspec": {
      "display_name": "R",
      "name": "ir"
    },
    "language_info": {
      "name": "R"
    }
  },
  "nbformat": 4,
  "nbformat_minor": 0
}
