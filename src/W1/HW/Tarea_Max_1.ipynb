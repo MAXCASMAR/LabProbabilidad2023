{
  "nbformat": 4,
  "nbformat_minor": 0,
  "metadata": {
    "colab": {
      "provenance": []
    },
    "kernelspec": {
      "name": "ir",
      "display_name": "R"
    },
    "language_info": {
      "name": "R"
    }
  },
  "cells": [
    {
      "cell_type": "code",
      "execution_count": null,
      "metadata": {
        "id": "8o3c-AFDjYiL"
      },
      "outputs": [],
      "source": []
    },
    {
      "cell_type": "markdown",
      "source": [
        "Crea una función que simula el lanzamiento de una moneda n veces, donde n es un parámetro de entrada. La función debe devolver el número de \"caras\" y \"cruces\" obtenidas."
      ],
      "metadata": {
        "id": "0RiRDdc8jZ_n"
      }
    },
    {
      "cell_type": "code",
      "source": [
        "lanzamiento_moneda <- function(n) {\n",
        "  resultados <- sample(c(\"caras\", \"cruces\"), n, replace = TRUE)\n",
        "  caras <- sum(resultados == \"caras\")\n",
        "  cruces <- sum(resultados == \"cruces\")\n",
        "  return(list(caras = caras, cruces = cruces))\n",
        "}\n",
        "\n",
        "# Imprime\n",
        "print(lanzamiento_moneda(100))\n"
      ],
      "metadata": {
        "id": "0-wZ9kZ0SQW4",
        "colab": {
          "base_uri": "https://localhost:8080/"
        },
        "outputId": "b7d8fc5e-26ed-4860-e75c-e7b9ac8b4931"
      },
      "execution_count": null,
      "outputs": [
        {
          "output_type": "stream",
          "name": "stdout",
          "text": [
            "$caras\n",
            "[1] 48\n",
            "\n",
            "$cruces\n",
            "[1] 52\n",
            "\n"
          ]
        }
      ]
    },
    {
      "cell_type": "markdown",
      "source": [
        "Genera un espacio muestral para el lanzamiento de una moneda y un dado al mismo tiempo. Luego, calcula la probabilidad de que la moneda muestre \"cara\" y el dado muestre un número par."
      ],
      "metadata": {
        "id": "x_WWI1QVaPUs"
      }
    },
    {
      "cell_type": "code",
      "source": [
        "# Generar espacio muestral\n",
        "moneda <- c(\"cara\", \"cruz\")\n",
        "dado <- 1:6\n",
        "espacio_muestral <- expand.grid(moneda = moneda, dado = dado)\n",
        "\n",
        "# Calcular probabilidad\n",
        "eventos_favorables <- subset(espacio_muestral, moneda == \"cara\" & dado %% 2 == 0)\n",
        "probabilidad <- nrow(eventos_favorables) / nrow(espacio_muestral)\n",
        "\n",
        "# Mostrar resultado\n",
        "cat(\"La probabilidad de que la moneda muestre 'cara' y el dado muestre un número par es\", probabilidad)\n",
        "\n"
      ],
      "metadata": {
        "colab": {
          "base_uri": "https://localhost:8080/"
        },
        "id": "4OE4kRocapYz",
        "outputId": "f9018eaa-b9e0-4a35-d886-7c0e7aa23d8a"
      },
      "execution_count": 21,
      "outputs": [
        {
          "output_type": "stream",
          "name": "stdout",
          "text": [
            "La probabilidad de que la moneda muestre 'cara' y el dado muestre un número par es 0.25"
          ]
        }
      ]
    },
    {
      "cell_type": "markdown",
      "source": [
        "Simula el lanzamiento de una moneda justa 1000 veces. Luego, calcula la proporción de \"caras\" para demostrar la ley de grandes números.\n",
        "\n",
        "\n"
      ],
      "metadata": {
        "id": "DyRDidh7bNp2"
      }
    },
    {
      "cell_type": "code",
      "source": [
        " # Simular lanzamientos\n",
        "n <- 1000\n",
        "lanzamientos <- sample(c(\"cara\", \"cruz\"), n, replace = TRUE)\n",
        "\n",
        "# Calcular proporción de caras\n",
        "proporcion_caras <- sum(lanzamientos == \"cara\") / n\n",
        "\n",
        "# Mostrar resultado\n",
        "cat(\"La proporción de 'caras' en\", n, \"lanzamientos es\", proporcion_caras)\n"
      ],
      "metadata": {
        "colab": {
          "base_uri": "https://localhost:8080/"
        },
        "id": "7koJaIMkbuRW",
        "outputId": "fb7e679f-852c-4e09-d647-42b0f14e7a81"
      },
      "execution_count": 22,
      "outputs": [
        {
          "output_type": "stream",
          "name": "stdout",
          "text": [
            "La proporción de 'caras' en 1000 lanzamientos es 0.522"
          ]
        }
      ]
    }
  ]
}