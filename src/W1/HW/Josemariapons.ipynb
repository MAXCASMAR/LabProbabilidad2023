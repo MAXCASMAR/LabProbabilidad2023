{
  "cells": [
    {
      "cell_type": "code",
      "execution_count": null,
      "metadata": {
        "id": "hkMFzMDEoAsv"
      },
      "outputs": [],
      "source": [
        "#Configurar el número de lanzamientos\n",
        "num_lanzamientos <- 1000\n",
        "#Inicializar el contador\n",
        "contador_suma_siete <- 0\n",
        "\n",
        "#Realizar los lanzamientos y contar las sumas iguales a 7\n",
        "for (i in 1:num_lanzamientos) {\n",
        "  dado1 <- sample(1:6, 1, replace = TRUE)\n",
        "  dado2 <- sample(1:6, 1, replace = TRUE)\n",
        "  suma <- dado1 + dado2\n",
        "\n",
        "  if (suma == 7) {\n",
        "    contador_suma_siete <- contador_suma_siete + 1\n",
        "  }\n",
        "}\n",
        "\n",
        "#Calcular la proporción\n",
        "proporcion_suma_siete <- contador_suma_siete / num_lanzamientos\n",
        "\n",
        "#Mostrar la proporción\n",
        "cat(\"La proporción de veces que la suma fue 7 es:\", proporcion_suma_siete)"
      ]
    },
    {
      "cell_type": "code",
      "execution_count": null,
      "metadata": {},
      "outputs": [],
      "source": [
        "#Probabilidad de cara y cruz\n",
        "probabilidad_cara <- 0.3\n",
        "probabilidad_cruz <- 0.7\n",
        "#Número de lanzamientos\n",
        "lanzamientos_totales <- 10\n",
        "#Número deseado de caras\n",
        "caras_deseadas <- 4\n",
        "#Calcular la probabilidad de obtener 4 caras\n",
        "probabilidad_4_caras <- dbinom(caras_deseadas, size = lanzamientos_totales, prob = probabilidad_cara)\n",
        "#Mostrar la probabilidad\n",
        "cat(\"La probabilidad de obtener exactamente 4 caras en 10 lanzamientos es:\", probabilidad_4_caras)"
      ]
    }
  ],
  "metadata": {
    "colab": {
      "provenance": []
    },
    "kernelspec": {
      "display_name": "Python 3",
      "name": "python3"
    },
    "language_info": {
      "name": "python"
    }
  },
  "nbformat": 4,
  "nbformat_minor": 0
}
